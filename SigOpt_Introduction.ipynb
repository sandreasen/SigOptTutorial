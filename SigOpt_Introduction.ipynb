{
 "cells": [
  {
   "cell_type": "markdown",
   "metadata": {},
   "source": [
    "# SigOpt for TensorFlow Introduction\n",
    "\n",
    ">*This notebook is created by Tobias Andreasen. For any comments, suggestions etc., please contact TobiasAndreasen1992@gmail.com. *\n",
    "\n",
    "The **Black Box Optimization Tool** SigOpt (https://sigopt.com/) allows you to do easy **Hyperparameter tuning**, which in most cases helps improving performance of various models.\n",
    "\n",
    "SigOpt is a black box optimization tool in the sense that it runs completly on The SigOpt backend **WITHOUT** ever seeing the actual data. What SigOpt requires is a set of hyperparameters and one or two matricies on which you want to maximize performance.\n",
    "\n",
    ">*Please see https://sigopt.com/ for questions regarding SigOpt licensing *\n",
    "\n",
    ">* The two classification examples (a simple first and a more complex second) in this notebook are based on examples from https://www.tensorflow.org/tutorials/image_recognition to build on the tensorflow tutorial exposure that tensorflow users would already have. The use of the examples is under the creative commons attribution 3.0 license which can be found at https://creativecommons.org/licenses/by/3.0/legalcode or in human readable format at https://creativecommons.org/licenses/by/3.0/*\n",
    "\n",
    "\n",
    "In this notebook, I employ the above classificaiton examples as a tutorial vehicle to introduce some of the features that SigOpt provides for working in a Python enviroment. For simplicity  we will be using the MNIST-dataset. The MNIST-dataset comprises roughly 60,000 images of handwriten digits, which we want to classify. See the pictures later in the notebook. Interested users can have fun with substituting the notMNINST dataset at https://github.com/davidflanagan/notMNIST-to-MNIST for the MINST dataset.*"
   ]
  },
  {
   "cell_type": "code",
   "execution_count": 2,
   "metadata": {},
   "outputs": [
    {
     "name": "stdout",
     "output_type": "stream",
     "text": [
      "Extracting MNIST_data/train-images-idx3-ubyte.gz\n",
      "Extracting MNIST_data/train-labels-idx1-ubyte.gz\n",
      "Extracting MNIST_data/t10k-images-idx3-ubyte.gz\n",
      "Extracting MNIST_data/t10k-labels-idx1-ubyte.gz\n"
     ]
    }
   ],
   "source": [
    "from __future__ import print_function\n",
    "from IPython.display import display, clear_output\n",
    "\n",
    "import requests\n",
    "from ipywidgets import Image\n",
    "\n",
    "import sigopt\n",
    "import matplotlib.pyplot as plt\n",
    "from math import ceil\n",
    "import time\n",
    "\n",
    "import tensorflow as tf\n",
    "from tensorflow.examples.tutorials.mnist import input_data\n",
    "mnist = input_data.read_data_sets(\"MNIST_data/\", one_hot=True)\n",
    "\n",
    "def plot_images(images, title, imgsize):\n",
    "    n = images.shape[0]\n",
    "    n_cols = 10\n",
    "    n_rows = ceil(n / n_cols)\n",
    "    plt.figure(figsize=(1.8 * n_cols, 2 * n_rows))\n",
    "    plt.suptitle(title)\n",
    "    for i in range(n):\n",
    "        ax = plt.subplot(n_rows, n_cols, i + 1)\n",
    "        plot_image(ax, images[i,:], imgsize)\n",
    "        \n",
    "def plot_image(ax, image, imgsize):\n",
    "    plt.imshow(image.reshape(imgsize), cmap='Greys_r')\n",
    "    plt.xticks(())\n",
    "    plt.yticks(())"
   ]
  },
  {
   "cell_type": "markdown",
   "metadata": {},
   "source": [
    "# SigOpt for TensorFlow Introduction\n",
    "\n",
    ">*This notebook is created by Tobias Andreasen. For any comments, suggestions ect please contact TobiasAndreasen1992@gmail.com for any question regarding license please see https://sigopt.com/*\n",
    "\n",
    "\n",
    "The **Black Box Optimization Tool** SigOpt (https://sigopt.com/) allows you to do easy **Hyperparameter tuning**, which in most cases helps improving performance of various models.\n",
    "\n",
    "SigOpt is a black box optimization tool in the sense that it runs completly on The SigOpt backend **WITHOUT** ever seeing the actual data. What SigOpt requires is a set of hyperparameters and one or two matricies on which you want to maximize performance.\n",
    "\n",
    "The following will introduce two hands-on examples created in TensorFlow (https://www.tensorflow.org/), where I introduce some of the features that SigOpt provides working in a Python enviroment. For simplicity we will be looking at two classification problems, and for that we will be using the MNIST-dataset. The MNIST-dataset comprises roughly 60.000 images of handwriten digits, which we want to classify. See the pictures below:"
   ]
  },
  {
   "cell_type": "code",
   "execution_count": 2,
   "metadata": {},
   "outputs": [
    {
     "data": {
      "image/png": "[encoded data removed]",
      "text/plain": [
       "<matplotlib.figure.Figure at 0x1164659e8>"
      ]
     },
     "metadata": {},
     "output_type": "display_data"
    }
   ],
   "source": [
    "plot_images(mnist.train.images[:10,:], \"Train examples extract\", (28,28))\n",
    "plt.show()"
   ]
  },
  {
   "cell_type": "markdown",
   "metadata": {},
   "source": [
    "SigOpt differs from most open-source tools due to the fact that it uses a trade-off between Exploitation and Exploration.\n",
    "Most open-source tools are only interested in optimizing the first found optimum through a series of iterations without even considering the potential of additional optimums.\n",
    "SigOpt outperforms these tools by having the ability to jump between optimums, because it tries to maximize the information it recives after every given iteration.\n",
    "\n",
    "For more information I can recommand the following podcast: https://soundcloud.com/twiml/twiml-talk-050-bayesian-optimization-hyperparameter-tuning-scott-clark\n",
    "\n",
    "\n",
    ">SigOpt automates the tuning of your model’s ***hyper, feature, and architecture parameters.*** If you’re not optimizing them, ***you’re forsaking significant performance and revenue gains.***\n",
    "\n",
    ">Modelers often overlook these optimizations because traditional approaches like manual, grid, and random search are time-consuming and produce subpar results.\n",
    "\n",
    ">Let SigOpt modernize your workflow so you can focus on what you’re best at: designing your model and understanding your data. <cite> https://sigopt.com/ <cite>\n",
    "\n"
   ]
  },
  {
   "cell_type": "markdown",
   "metadata": {},
   "source": [
    "# Example - Simple Neural Network\n",
    "\n",
    "The first example is an MNIST Image classification problem using a 2-layer neural network architecture:\n",
    "\n",
    "**input $\\rightarrow$ fully connected $\\rightarrow$ activation $\\rightarrow$ fully connected $\\rightarrow$ output**\n",
    "\n",
    "For this example we introduce 5 hyperparameters, that we want to use in order to increase performance of the model.\n",
    "\n",
    "For using SigOpt, the first step is to create a connection to the SigOpt backend, by either using the API Token or the Development Token: https://sigopt.com/user/profile\n",
    "\n",
    "***The Development Token is for debugging and DOES NOT count as an experiment.***"
   ]
  },
  {
   "cell_type": "code",
   "execution_count": 10,
   "metadata": {},
   "outputs": [
    {
     "data": {
      "application/vnd.jupyter.widget-view+json": {
       "model_id": "cbc1aea91f4c484fa4af458bf1431e2a"
      }
     },
     "metadata": {},
     "output_type": "display_data"
    }
   ],
   "source": [
    "Image(value=requests.get('https://www.tensorflow.org/images/softmax-regression-scalargraph.png'\n",
    "                        ).content, width=300, height=150)\n",
    "\n",
    "# If it does not complie, run:\n",
    "# jupyter nbextension enable --py --sys-prefix widgetsnbextension"
   ]
  },
  {
   "cell_type": "code",
   "execution_count": 3,
   "metadata": {
    "collapsed": true
   },
   "outputs": [],
   "source": [
    "conn = sigopt.Connection(client_token=\"\") "
   ]
  },
  {
   "cell_type": "markdown",
   "metadata": {},
   "source": [
    "Secondly we need to choose an observation budget. The observation budget corresponds to the number of iterations that we want to provide to SigOpt. SigOpt suggests to use a budget in the range of 10-20 times the number of hyperparameters."
   ]
  },
  {
   "cell_type": "code",
   "execution_count": 4,
   "metadata": {
    "collapsed": true
   },
   "outputs": [],
   "source": [
    "observation_budget_experiment_1 = 100"
   ]
  },
  {
   "cell_type": "markdown",
   "metadata": {},
   "source": [
    "It is possible to create an experiment via the SigOpt API, but this can also be done using Python. When creating the experiment, the following pieces of information need to be specified:\n",
    "\n",
    "* Name of the experiment\n",
    "* Hyperparameters, including spans\n",
    "* Metrics/objective\n",
    "* Observation Budget\n",
    "\n",
    "Choosing the hyperparameter spans is based on knowlegde of the person implementing the model, ***but throughout the experiment these can be changed using the SigOpt API.***\n",
    "\n",
    "It is possible to choose three types of Hyperparameters:\n",
    "\n",
    "1. Floating point values\n",
    "2. Categorical values\n",
    "3. Integer values"
   ]
  },
  {
   "cell_type": "code",
   "execution_count": 5,
   "metadata": {
    "collapsed": true
   },
   "outputs": [],
   "source": [
    "experiments = conn.experiments().create(\n",
    "    name = \"SigOpt_Workshop_Example_1\",\n",
    "        parameters = [\n",
    "            \n",
    "          # DOUBLE\n",
    "          {'name': 'lr',         'type': 'double', 'bounds': {'min': 5e-9, 'max': 5e-1}}, # learning rate\n",
    "            \n",
    "          # Categorical\n",
    "          {'name': 'activation', 'type': 'categorical', 'categorical_values': ['softmax', 'relu', 'softplus']}, # activation\n",
    "          \n",
    "          # Integer  \n",
    "          {'name': 'nodes',      'type': 'int', 'bounds': {'min': 50, 'max': 200}}, # nodes in second hiddden layer\n",
    "          {'name': 'iterations', 'type': 'int', 'bounds': {'min': 100, 'max': 1500}}, # number of training iterations\n",
    "          {'name': 'batch_size', 'type': 'int', 'bounds': {'min': 1, 'max': 200}}, # batch size\n",
    "          \n",
    "        ], metrics=[ dict(name=\"accuracy\") ],\n",
    "      observation_budget = observation_budget_experiment_1)"
   ]
  },
  {
   "cell_type": "markdown",
   "metadata": {},
   "source": [
    "After an experiment has been created, the experiment ID has to be retrived. It can also be accessed via the SigOpt API: https://sigopt.com/experiments"
   ]
  },
  {
   "cell_type": "code",
   "execution_count": 6,
   "metadata": {},
   "outputs": [
    {
     "name": "stdout",
     "output_type": "stream",
     "text": [
      "28839\n"
     ]
    }
   ],
   "source": [
    "ID = experiments.id\n",
    "print(ID)"
   ]
  },
  {
   "cell_type": "markdown",
   "metadata": {},
   "source": [
    "The final step is to create a loop that trains the model a number of times corresponding to the observation budget. Every iteration will then consist of four steps:\n",
    "\n",
    "1. Get Hyperparameter suggestion from SigOpt\n",
    "2. Generat model with the given hyperparameters\n",
    "3. Train and evaluate the model\n",
    "4. Return information to Sigopt\n",
    "\n",
    "While this is running the results can be monitored on: https://sigopt.com/experiments \n",
    "\n",
    "***It is worth noticing that this is a toy example, and that the performance can be increased by increasing the number of training iterations.***"
   ]
  },
  {
   "cell_type": "code",
   "execution_count": 13,
   "metadata": {
    "collapsed": true
   },
   "outputs": [],
   "source": [
    "try:\n",
    "\n",
    "    for _ in range(observation_budget):\n",
    "\n",
    "        \n",
    "        \"\"\"Get Hyperparameter suggestion from SigOpt\"\"\"\n",
    "        suggestion = conn.experiments(ID).suggestions().create()\n",
    "        params = suggestion.assignments\n",
    "\n",
    "        activation = params['activation']\n",
    "        nodes = params['nodes']\n",
    "        lr = params['lr']\n",
    "        iterations = params['iterations']\n",
    "        batch_size = params['batch_size']\n",
    "\n",
    "        \n",
    "        \"\"\"Generat model with the given Hyperparameter\"\"\"\n",
    "        tf.reset_default_graph()\n",
    "\n",
    "        x = tf.placeholder(tf.float32, [None, 784])\n",
    "        y_ = tf.placeholder(tf.float32, [None, 10])\n",
    "\n",
    "        with tf.name_scope('scope'):\n",
    "            W_1 = tf.Variable(tf.zeros([784, nodes]), name='W_1')\n",
    "            b_1 = tf.Variable(tf.zeros([nodes]), name='b_1')\n",
    "\n",
    "            W_2 = tf.Variable(tf.zeros([nodes, 10]), name='W_2')\n",
    "            b_2 = tf.Variable(tf.zeros([10]), name='b_2')\n",
    "\n",
    "        z = getattr(tf.nn, activation)(tf.matmul(x, W_1) + b_1)\n",
    "        y = tf.nn.softmax(tf.matmul(z, W_2) + b_2)\n",
    "\n",
    "        cross_entropy = tf.reduce_mean(-tf.reduce_sum(y_ * tf.log(y), reduction_indices=[1]))\n",
    "        train_step = tf.train.GradientDescentOptimizer(lr).minimize(cross_entropy)\n",
    "\n",
    "\n",
    "        sess = tf.InteractiveSession()\n",
    "        tf.global_variables_initializer().run()\n",
    "        \n",
    "        \n",
    "        \"\"\"Train and evaluate the model\"\"\"\n",
    "        for i in range(iterations):\n",
    "            batch_xs, batch_ys = mnist.train.next_batch(batch_size)\n",
    "            sess.run(train_step, feed_dict={x: batch_xs, y_: batch_ys})\n",
    "\n",
    "        correct_prediction = tf.equal(tf.argmax(y, 1), tf.argmax(y_, 1))\n",
    "        accuracy = tf.reduce_mean(tf.cast(correct_prediction, tf.float32))\n",
    "\n",
    "        result = sess.run(accuracy, feed_dict={x: mnist.test.images, y_: mnist.test.labels})\n",
    "        \n",
    "        \n",
    "        \"\"\"Return information to Sigopt\"\"\"\n",
    "        conn.experiments(ID).observations().create(\n",
    "        suggestion=suggestion.id,\n",
    "        value=float(result)) # if only one objective we return using value\n",
    "\n",
    "        \n",
    "except:\n",
    "    KeyboardInterrupt"
   ]
  },
  {
   "cell_type": "markdown",
   "metadata": {},
   "source": [
    "Now that we have shown that our basic setup works, and we are ready to dig a little bit deeper into what SigOpt has to offer."
   ]
  },
  {
   "cell_type": "markdown",
   "metadata": {
    "collapsed": true
   },
   "source": [
    "# Example - Deep Convolutional Network"
   ]
  },
  {
   "cell_type": "markdown",
   "metadata": {},
   "source": [
    "For the second example we are still looking at the MNIST dataset but this time we're choosing a deeper architecture. We do this for two reasons. First, we want to include more hyperparameters and secondly this type model also happen to be very multimodal; meaning that they have multiple optimums. The model architecture chosen is pictured below."
   ]
  },
  {
   "cell_type": "code",
   "execution_count": 11,
   "metadata": {},
   "outputs": [
    {
     "data": {
      "application/vnd.jupyter.widget-view+json": {
       "model_id": "088b64d36fe245bdbe9354d25ee737c7"
      }
     },
     "metadata": {},
     "output_type": "display_data"
    }
   ],
   "source": [
    "Image(value=requests.get('https://www.tensorflow.org/images/mnist_deep.png').content, width=300, height=600)\n",
    "\n",
    "# If it does not complie, run:\n",
    "# jupyter nbextension enable --py --sys-prefix widgetsnbextension"
   ]
  },
  {
   "cell_type": "markdown",
   "metadata": {},
   "source": [
    "# Helper functions"
   ]
  },
  {
   "cell_type": "code",
   "execution_count": 8,
   "metadata": {
    "collapsed": true
   },
   "outputs": [],
   "source": [
    "def weight_variable(shape):\n",
    "    initial = tf.truncated_normal(shape, stddev=0.1)\n",
    "    return tf.Variable(initial)\n",
    "\n",
    "def bias_variable(shape):\n",
    "    initial = tf.constant(0.1, shape=shape)\n",
    "    return tf.Variable(initial)\n",
    "\n",
    "def conv2d(x, W):\n",
    "    return tf.nn.conv2d(x, W, strides=[1, 1, 1, 1], padding='SAME')\n",
    "\n",
    "def max_pool_2x2(x):\n",
    "    return tf.nn.max_pool(x, ksize=[1, 2, 2, 1],\n",
    "                        strides=[1, 2, 2, 1], padding='SAME')\n",
    "\n",
    "def unpack_hp(params):\n",
    "    return (params['f_1'], params['f_2'], params['k_1'], params['k_2'],\n",
    "           params['a_1'], params['a_2'], params['o_s'], params['do'],\n",
    "           params['lr'], params['opt'], params['b_s'], params['i'])"
   ]
  },
  {
   "cell_type": "markdown",
   "metadata": {},
   "source": [
    "For the second experiment we are interested in investigating if the model we are looking at has multiple optimums with equavalent performance.\n",
    "\n",
    "Together with the increase in the number of hyperparameters, we decide to also increase our observation budget."
   ]
  },
  {
   "cell_type": "code",
   "execution_count": 9,
   "metadata": {
    "collapsed": true
   },
   "outputs": [],
   "source": [
    "observation_budget_experiment_2 = 200"
   ]
  },
  {
   "cell_type": "markdown",
   "metadata": {},
   "source": [
    "For this experiment we are including 12 hyperparameters, where 2 are floating points, 3 are categorical and 7 are integers. Choosing a large number of categorical values can sometimes be problematic, since the SigOpt-model has to search through all the vertices of a hypercube of size $g^{k}$, where $g$ is the number of potential hyperparameter-values and $k$ is the number of categorical hyperparameters."
   ]
  },
  {
   "cell_type": "code",
   "execution_count": 10,
   "metadata": {
    "collapsed": true
   },
   "outputs": [],
   "source": [
    "epsilon = 0.0000001 # The SigOpt parameter spans are inclusive, so due to the numerical instability of\n",
    "                    # some hyperparameters, we include a small epsilon.\n",
    "\n",
    "experiments = conn.experiments().create(\n",
    "    name = \"SigOpt_Workshop_Example_2\",\n",
    "        parameters = [\n",
    "            \n",
    "          # DOUBLE\n",
    "          {'name': 'lr', 'type': 'double', 'bounds': {'min': 5e-9, 'max': 5e-1}}, # learning rate\n",
    "          {'name': 'do', 'type': 'double', 'bounds': {'min': 0+epsilon, 'max': 1-epsilon}}, # dropout rate\n",
    "            \n",
    "          # Categorical\n",
    "          {'name': 'a_1', 'type': 'categorical', 'categorical_values': ['softmax', 'relu', 'softplus']}, # activation 1\n",
    "          {'name': 'a_2', 'type': 'categorical', 'categorical_values': ['softmax', 'relu', 'softplus']}, # activations 2\n",
    "          {'name': 'opt', 'type': 'categorical', 'categorical_values': ['AdamOptimizer', 'AdadeltaOptimizer']}, # optimizer\n",
    "            \n",
    "          # Integer  \n",
    "          {'name': 'f_1', 'type': 'int', 'bounds': {'min': 1, 'max':75}}, # numbers of filters in first layer\n",
    "          {'name': 'f_2', 'type': 'int', 'bounds': {'min': 1, 'max': 75}}, # numbers of filters in second layer\n",
    "          {'name': 'k_1', 'type': 'int', 'bounds': {'min': 2, 'max': 10}}, # kernel size in first layer\n",
    "          {'name': 'k_2', 'type': 'int', 'bounds': {'min': 2, 'max': 10}}, # kernel size in second layer\n",
    "          {'name': 'o_s', 'type': 'int', 'bounds': {'min': 500, 'max': 2500}}, # size of first fully connected layer \n",
    "          {'name': 'b_s', 'type': 'int', 'bounds': {'min': 1, 'max': 100}}, # batch size  \n",
    "          {'name': 'i',   'type': 'int', 'bounds': {'min': 50, 'max': 1000}}, # number of training iterations  \n",
    "            \n",
    "        ], metrics=[ {'name': 'accuracy'}, {'name': 'train_time'} ],\n",
    "      observation_budget = observation_budget_experiment_2)"
   ]
  },
  {
   "cell_type": "markdown",
   "metadata": {},
   "source": [
    "Since we are assuming that the model we are working with has multiple optimums, we will try to find a good trade-off between the accuracy of the model and the time it takes to train the model.\n",
    "To do so we will be maximizing over the accuracy but also the negative of the training time.\n",
    "\n",
    "The remaining code follows the procedure from the previous example:"
   ]
  },
  {
   "cell_type": "code",
   "execution_count": 11,
   "metadata": {},
   "outputs": [
    {
     "name": "stdout",
     "output_type": "stream",
     "text": [
      "28840\n"
     ]
    }
   ],
   "source": [
    "ID = experiments.id\n",
    "print(ID)"
   ]
  },
  {
   "cell_type": "markdown",
   "metadata": {},
   "source": [
    "***Again, it is worth noticing that this is a toy example, and that the performance can be increased by increasing the number of training iterations.***\n",
    "\n",
    "Increasing the number of training iterations to 20.000 gives an accuracy of 99.2% but take roughly half an hour to train on a normal CPU.\n",
    "\n",
    "By optimizing over the accuracy as well as the negative training time, we want to see if we can hit that performance at a much lower training time."
   ]
  },
  {
   "cell_type": "code",
   "execution_count": 8,
   "metadata": {
    "collapsed": true
   },
   "outputs": [],
   "source": [
    "try:\n",
    "\n",
    "    for _ in range(observation_budget):\n",
    "        \n",
    "\n",
    "        \"\"\"Get Hyperparameter suggestion from SigOpt\"\"\"\n",
    "        suggestion = conn.experiments(ID).suggestions().create()\n",
    "        params = suggestion.assignments\n",
    "\n",
    "        # Hyperparameters\n",
    "        num_filters_1, num_filters_2, size_kernel_1, size_kernel_2,\\\n",
    "        activation_1, activation_2, output_size, dropout, learning_rate,\\\n",
    "        optim_func, batch_size, iterations = unpack_hp(params)\n",
    "        \n",
    "        \n",
    "        \"\"\"Generat model with the given Hyperparameter\"\"\"\n",
    "        tf.reset_default_graph()\n",
    "\n",
    "        # input\n",
    "        x = tf.placeholder(tf.float32, shape=[None, 784])\n",
    "        y_ = tf.placeholder(tf.float32, shape=[None, 10])\n",
    "        x_image = tf.reshape(x, [-1, 28, 28, 1])\n",
    "\n",
    "\n",
    "        # Layer 1\n",
    "        W_conv1 = weight_variable([size_kernel_1,\n",
    "                                   size_kernel_1,\n",
    "                                   1,\n",
    "                                   num_filters_1])\n",
    "\n",
    "        b_conv1 = bias_variable([num_filters_1])\n",
    "\n",
    "        h_conv1 = getattr(tf.nn, activation_1)(conv2d(x_image, W_conv1) + b_conv1)\n",
    "        h_pool1 = max_pool_2x2(h_conv1)\n",
    "\n",
    "\n",
    "        # Layer 2\n",
    "        W_conv2 = weight_variable([size_kernel_2,\n",
    "                                   size_kernel_2,\n",
    "                                   num_filters_1,\n",
    "                                   num_filters_2])\n",
    "\n",
    "        b_conv2 = bias_variable([num_filters_2])\n",
    "\n",
    "\n",
    "        h_conv2 = getattr(tf.nn, activation_2)(conv2d(h_pool1, W_conv2) + b_conv2)\n",
    "\n",
    "        h_pool2 = max_pool_2x2(h_conv2)\n",
    "\n",
    "\n",
    "        # fully connected 1\n",
    "        W_fc1 = weight_variable([int(h_pool2.shape[1])**2 * num_filters_2, output_size])\n",
    "        b_fc1 = bias_variable([output_size])\n",
    "\n",
    "        h_pool2_flat = tf.reshape(h_pool2, [-1, int(h_pool2.shape[1])**2 * num_filters_2])\n",
    "        h_fc1 = tf.nn.relu(tf.matmul(h_pool2_flat, W_fc1) + b_fc1)\n",
    "\n",
    "        keep_prob = tf.placeholder(tf.float32)\n",
    "        h_fc1_drop = tf.nn.dropout(h_fc1, keep_prob)\n",
    "\n",
    "\n",
    "        # fully connected 2\n",
    "        W_fc2 = weight_variable([output_size, 10])\n",
    "        b_fc2 = bias_variable([10])\n",
    "\n",
    "\n",
    "        # output layer\n",
    "        y_conv = tf.matmul(h_fc1_drop, W_fc2) + b_fc2\n",
    "\n",
    "\n",
    "        cross_entropy = tf.reduce_mean(\n",
    "            tf.nn.softmax_cross_entropy_with_logits(labels=y_, logits=y_conv))\n",
    "\n",
    "\n",
    "        train_step = getattr(tf.train, optim_func)(learning_rate).minimize(cross_entropy)\n",
    "\n",
    "\n",
    "        correct_prediction = tf.equal(tf.argmax(y_conv, 1), tf.argmax(y_, 1))\n",
    "        accuracy = tf.reduce_mean(tf.cast(correct_prediction, tf.float32))\n",
    "\n",
    "\n",
    "        sess = tf.InteractiveSession()\n",
    "        tf.global_variables_initializer().run()\n",
    "\n",
    "        time_start = time.time()\n",
    "        \n",
    "        \n",
    "        \"\"\"Train and evaluate the model\"\"\"\n",
    "        for i in range(iterations):\n",
    "            batch = mnist.train.next_batch(batch_size)\n",
    "            train_step.run(feed_dict={x: batch[0], y_: batch[1], keep_prob: dropout})\n",
    "\n",
    "        time_end = time.time()\n",
    "        \n",
    "        # Evaluate model\n",
    "        acc = accuracy.eval(feed_dict={\n",
    "            x: mnist.test.images, y_: mnist.test.labels, keep_prob: 1.0})\n",
    "        train_time = time_start-time_end # we want to maximize the negative time in order to reduce it\n",
    "\n",
    "        \n",
    "        \"\"\"Return information to Sigopt\"\"\"\n",
    "        result = [{'name': 'accuracy', 'value': float(acc)},\n",
    "                  {'name': 'train_time', 'value': float(train_time)}]\n",
    "\n",
    "        conn.experiments(ID).observations().create(\n",
    "        suggestion=suggestion.id,\n",
    "        values=result) # if two objectives we return using values\n",
    "\n",
    "        \n",
    "except:\n",
    "    KeyboardInterrupt"
   ]
  },
  {
   "cell_type": "markdown",
   "metadata": {
    "collapsed": true
   },
   "source": [
    "For this example we have tried to update a model with competing objectives. For doing this type of optimization it important to become familiar with the term **Pareto Efficiency** (https://en.wikipedia.org/wiki/Pareto_efficiency). The following blogpost gives an additional intuition: https://blog.sigopt.com/posts/intro-to-multicriteria-optimization"
   ]
  }
 ],
 "metadata": {
  "kernelspec": {
   "display_name": "Python 3",
   "language": "python",
   "name": "python3"
  },
  "language_info": {
   "codemirror_mode": {
    "name": "ipython",
    "version": 3
   },
   "file_extension": ".py",
   "mimetype": "text/x-python",
   "name": "python",
   "nbconvert_exporter": "python",
   "pygments_lexer": "ipython3",
   "version": "3.5.2"
  }
 },
 "nbformat": 4,
 "nbformat_minor": 2
}
